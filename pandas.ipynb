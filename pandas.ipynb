{
  "nbformat": 4,
  "nbformat_minor": 0,
  "metadata": {
    "colab": {
      "provenance": [],
      "include_colab_link": true
    },
    "kernelspec": {
      "name": "python3",
      "display_name": "Python 3"
    },
    "language_info": {
      "name": "python"
    },
    "accelerator": "GPU",
    "gpuClass": "standard"
  },
  "cells": [
    {
      "cell_type": "markdown",
      "metadata": {
        "id": "view-in-github",
        "colab_type": "text"
      },
      "source": [
        "<a href=\"https://colab.research.google.com/github/ashnichinnusam/Python-Jupyter-Notebbok/blob/main/pandas.ipynb\" target=\"_parent\"><img src=\"https://colab.research.google.com/assets/colab-badge.svg\" alt=\"Open In Colab\"/></a>"
      ]
    },
    {
      "cell_type": "code",
      "metadata": {
        "id": "m85A_yCui7o7"
      },
      "source": [
        "# PANDAS - easy to use data analysis python library\n",
        "# Contains Series, Dataframes and Panels\n",
        "\n",
        "#Series: 1-dimensional labeled array capable of holding any data type\n",
        "#DataFrame: 2-dimensional labeled data structure with columns of potentially different types\n",
        "#Panel: 3-dimensional labeled data structure"
      ],
      "execution_count": null,
      "outputs": []
    },
    {
      "cell_type": "code",
      "metadata": {
        "colab": {
          "base_uri": "https://localhost:8080/"
        },
        "id": "1LELOJYCjBti",
        "outputId": "bfc332f9-7ce8-46ef-8629-b0a8613c5eab"
      },
      "source": [
        "#SERIES\n",
        "\n",
        "import numpy as np\n",
        "import pandas as pd\n",
        "\n",
        "#Create series\n",
        "s = pd.Series([2, -1, 3, 5])\n",
        "print(s)"
      ],
      "execution_count": null,
      "outputs": [
        {
          "output_type": "stream",
          "name": "stdout",
          "text": [
            "0    2\n",
            "1   -1\n",
            "2    3\n",
            "3    5\n",
            "dtype: int64\n"
          ]
        }
      ]
    },
    {
      "cell_type": "code",
      "metadata": {
        "colab": {
          "base_uri": "https://localhost:8080/"
        },
        "id": "a054a3y3jL-c",
        "outputId": "bd88fb08-cf8e-43eb-f605-d1d4ff4ce3e4"
      },
      "source": [
        "s_idx = pd.Series([12, 15, 3, 60], index=['a', 2, 'c', 'd'])\n",
        "print(s_idx)"
      ],
      "execution_count": null,
      "outputs": [
        {
          "output_type": "stream",
          "name": "stdout",
          "text": [
            "a    12\n",
            "2    15\n",
            "c     3\n",
            "d    60\n",
            "dtype: int64\n"
          ]
        }
      ]
    },
    {
      "cell_type": "code",
      "metadata": {
        "colab": {
          "base_uri": "https://localhost:8080/"
        },
        "id": "K7zGrveZjTHu",
        "outputId": "2a1fbf9d-8e66-43e0-e1ce-3dc1c5891028"
      },
      "source": [
        "print(s_idx.loc['c'])"
      ],
      "execution_count": null,
      "outputs": [
        {
          "output_type": "stream",
          "name": "stdout",
          "text": [
            "3\n"
          ]
        }
      ]
    },
    {
      "cell_type": "code",
      "metadata": {
        "colab": {
          "base_uri": "https://localhost:8080/"
        },
        "id": "_u2ZQtwcjUCR",
        "outputId": "2d9cf020-2dcd-4705-e87c-d3d54eec21c6"
      },
      "source": [
        "print(s_idx.iloc[2])"
      ],
      "execution_count": null,
      "outputs": [
        {
          "output_type": "stream",
          "name": "stdout",
          "text": [
            "3\n"
          ]
        }
      ]
    },
    {
      "cell_type": "code",
      "metadata": {
        "colab": {
          "base_uri": "https://localhost:8080/"
        },
        "id": "LBWwBG5yjXcq",
        "outputId": "458b15a8-2512-42b3-ae8e-b6b7582108e4"
      },
      "source": [
        "s_slice = s_idx[2:]\n",
        "print(s_slice)"
      ],
      "execution_count": null,
      "outputs": [
        {
          "output_type": "stream",
          "name": "stdout",
          "text": [
            "c     3\n",
            "d    60\n",
            "dtype: int64\n"
          ]
        }
      ]
    },
    {
      "cell_type": "code",
      "metadata": {
        "colab": {
          "base_uri": "https://localhost:8080/"
        },
        "id": "tUwVO_Awjapi",
        "outputId": "0a9af84e-c0c9-487f-bc53-ebd0aea89e6e"
      },
      "source": [
        "print(s_slice[0])"
      ],
      "execution_count": null,
      "outputs": [
        {
          "output_type": "stream",
          "name": "stdout",
          "text": [
            "3\n"
          ]
        }
      ]
    },
    {
      "cell_type": "code",
      "metadata": {
        "colab": {
          "base_uri": "https://localhost:8080/",
          "height": 265
        },
        "id": "Co434MlWjdnT",
        "outputId": "f25b1239-71f1-4309-c5a1-89c0fa9597ec"
      },
      "source": [
        "#Series plots\n",
        "\n",
        "#%matplotlib inline\n",
        "import matplotlib.pyplot as plt\n",
        "\n",
        "t = [4,4, 5.1, 6.1, 6.2, 6.1, 6.1, 5.7, 5.2, 4.7, 4.1, 3.9, 3.5]\n",
        "s = pd.Series(t, name='Temperature')\n",
        "\n",
        "s.plot()\n",
        "plt.show()"
      ],
      "execution_count": null,
      "outputs": [
        {
          "output_type": "display_data",
          "data": {
            "text/plain": [
              "<Figure size 432x288 with 1 Axes>"
            ],
            "image/png": "[encoded data removed]"
          },
          "metadata": {
            "needs_background": "light"
          }
        }
      ]
    },
    {
      "cell_type": "code",
      "metadata": {
        "colab": {
          "base_uri": "https://localhost:8080/"
        },
        "id": "IEK3MObtjkR7",
        "outputId": "7b8f8442-7193-48b8-e781-bc95d90a2e49"
      },
      "source": [
        "#Dataframes\n",
        "\n",
        "dict = {\n",
        "        'weight'     : pd.Series([68, 83, 112], index=['alice', 'bob', 'charles']),\n",
        "        'birthyear' : pd.Series([1984, 1985, 1992], index=['bob', 'alice', 'charles']),\n",
        "        'children'   : pd.Series([0, 3], index=['charles', 'bob']),\n",
        "        'hobby'      : pd.Series(['Biking', 'Dancing'], index=['alice', 'bob'])\n",
        "}\n",
        "people = pd.DataFrame(dict)\n",
        "print(people)"
      ],
      "execution_count": null,
      "outputs": [
        {
          "output_type": "stream",
          "name": "stdout",
          "text": [
            "         weight  birthyear  children    hobby\n",
            "alice        68       1985       NaN   Biking\n",
            "bob          83       1984       3.0  Dancing\n",
            "charles     112       1992       0.0      NaN\n"
          ]
        }
      ]
    },
    {
      "cell_type": "code",
      "metadata": {
        "colab": {
          "base_uri": "https://localhost:8080/"
        },
        "id": "uFWP_Hd2jnhR",
        "outputId": "c4cb364f-8c4c-4ec8-c617-23f46e96c9af"
      },
      "source": [
        "print(people.loc['charles'])"
      ],
      "execution_count": null,
      "outputs": [
        {
          "output_type": "stream",
          "name": "stdout",
          "text": [
            "weight        112\n",
            "birthyear    1992\n",
            "children      0.0\n",
            "hobby         NaN\n",
            "Name: charles, dtype: object\n"
          ]
        }
      ]
    },
    {
      "cell_type": "code",
      "metadata": {
        "colab": {
          "base_uri": "https://localhost:8080/"
        },
        "id": "hnA3eWzDjq9K",
        "outputId": "df2a4784-c627-4cb0-a5cd-49dba3daffc1"
      },
      "source": [
        "print(people.iloc[2])"
      ],
      "execution_count": null,
      "outputs": [
        {
          "output_type": "stream",
          "name": "stdout",
          "text": [
            "weight        112\n",
            "birthyear    1992\n",
            "children      0.0\n",
            "hobby         NaN\n",
            "Name: charles, dtype: object\n"
          ]
        }
      ]
    },
    {
      "cell_type": "code",
      "metadata": {
        "colab": {
          "base_uri": "https://localhost:8080/"
        },
        "id": "huw9BuOGjvS_",
        "outputId": "bb40e354-e0ae-4227-8a91-4ce0f3ff2409"
      },
      "source": [
        "print(people.iloc[1:3])"
      ],
      "execution_count": null,
      "outputs": [
        {
          "output_type": "stream",
          "name": "stdout",
          "text": [
            "         weight  birthyear  children    hobby\n",
            "bob          83       1984       3.0  Dancing\n",
            "charles     112       1992       0.0      NaN\n"
          ]
        }
      ]
    },
    {
      "cell_type": "code",
      "metadata": {
        "id": "0-UAimekjzJs",
        "outputId": "7f347bdd-6c3f-4771-efc8-f53d1076d011",
        "colab": {
          "base_uri": "https://localhost:8080/"
        }
      },
      "source": [
        "print(people.iloc[1:3, 2:])"
      ],
      "execution_count": null,
      "outputs": [
        {
          "output_type": "stream",
          "name": "stdout",
          "text": [
            "         children    hobby\n",
            "bob           3.0  Dancing\n",
            "charles       0.0      NaN\n"
          ]
        }
      ]
    },
    {
      "cell_type": "code",
      "metadata": {
        "id": "D2j2xnIzj0kq",
        "outputId": "1d571efa-34d1-4a1f-b989-3c23526eb957",
        "colab": {
          "base_uri": "https://localhost:8080/"
        }
      },
      "source": [
        "people['age'] = 2021 - people['birthyear']\n",
        "print(people)"
      ],
      "execution_count": null,
      "outputs": [
        {
          "output_type": "stream",
          "name": "stdout",
          "text": [
            "         weight  birthyear  children    hobby  age\n",
            "alice        68       1985       NaN   Biking   36\n",
            "bob          83       1984       3.0  Dancing   37\n",
            "charles     112       1992       0.0      NaN   29\n"
          ]
        }
      ]
    }
  ]
}